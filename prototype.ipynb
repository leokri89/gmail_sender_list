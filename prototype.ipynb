{
 "cells": [
  {
   "cell_type": "code",
   "execution_count": 91,
   "metadata": {},
   "outputs": [],
   "source": [
    "from google.oauth2.credentials import Credentials\n",
    "from google.auth.transport.requests import Request\n",
    "from google_auth_oauthlib.flow import InstalledAppFlow\n",
    "from googleapiclient.discovery import build\n",
    "from googleapiclient.errors import HttpError\n",
    "import json\n",
    "import os\n",
    "\n",
    "\n",
    "def get_service(credential_json='credentials.json'):\n",
    "    SCOPES = ['https://www.googleapis.com/auth/gmail.readonly']\n",
    "    creds = None\n",
    "    if os.path.exists('token.json'):\n",
    "        creds = Credentials.from_authorized_user_file('token.json', SCOPES)\n",
    "    if not creds or not creds.valid:\n",
    "        if creds and creds.expired and creds.refresh_token:\n",
    "            creds.refresh(Request())\n",
    "        else:\n",
    "            flow = InstalledAppFlow.from_client_secrets_file(credential_json, SCOPES)\n",
    "            creds = flow.run_local_server(port=0)\n",
    "        with open('token.json', 'w') as token:\n",
    "            token.write(creds.to_json())\n",
    "    return build('gmail', 'v1', credentials=creds)\n",
    "\n",
    "\n",
    "def get_messages(service, pageToken=None):\n",
    "    if pageToken:\n",
    "        return service.users() \\\n",
    "            .messages() \\\n",
    "            .list(userId='me', maxResults=500, pageToken=pageToken) \\\n",
    "            .execute()\n",
    "    return service.users() \\\n",
    "        .messages() \\\n",
    "        .list(userId='me', maxResults=500) \\\n",
    "        .execute()\n",
    "\n",
    "\n",
    "def get_all_messages(service):\n",
    "    totalResults = list()\n",
    "    pageToken = None\n",
    "    while True:\n",
    "        results = get_messages(service, pageToken=pageToken)\n",
    "        totalResults.append(results)\n",
    "        if 'nextPageToken' in results:\n",
    "            pageToken = results['nextPageToken']\n",
    "        else:\n",
    "            break\n",
    "    return totalResults\n",
    "\n",
    "\n",
    "def count_messages(all_messages):\n",
    "    totalMessages = 0\n",
    "    for result in totalResults:\n",
    "        totalMessages += len(result.get('messages'))\n",
    "    return totalMessages\n",
    "\n",
    "async def get_message_content(service, msgId):\n",
    "    return service.users().messages().get(userId='me',id=msgId,format='metadata').execute()\n",
    "\n",
    "\n",
    "async def header_as_json(header):\n",
    "    fields = 'Date,From,To'.split(',')\n",
    "    mail_header = {}\n",
    "    for item in header:\n",
    "        name = item.get('name')\n",
    "        if name in fields:\n",
    "            mail_header[name] = item.get('value')\n",
    "    return mail_header\n",
    "\n",
    "\n",
    "async def get_headers(service, msgId):\n",
    "    message = await get_message_content(service, msgId)\n",
    "    try:\n",
    "        return await header_as_json(message['payload']['headers'])\n",
    "    except:\n",
    "        return {'Date': None,'From': None,'To': None}"
   ]
  },
  {
   "cell_type": "code",
   "execution_count": 92,
   "metadata": {},
   "outputs": [
    {
     "ename": "TypeError",
     "evalue": "object dict can't be used in 'await' expression",
     "output_type": "error",
     "traceback": [
      "\u001b[1;31m---------------------------------------------------------------------------\u001b[0m",
      "\u001b[1;31mTypeError\u001b[0m                                 Traceback (most recent call last)",
      "\u001b[1;32md:\\repositorio\\github\\gmail_sender_list\\prototype.ipynb Célula: 2\u001b[0m in \u001b[0;36m<cell line: 10>\u001b[1;34m()\u001b[0m\n\u001b[0;32m      <a href='vscode-notebook-cell:/d%3A/repositorio/github/gmail_sender_list/prototype.ipynb#W6sZmlsZQ%3D%3D?line=8'>9</a>\u001b[0m headers \u001b[39m=\u001b[39m \u001b[39mlist\u001b[39m()\n\u001b[0;32m     <a href='vscode-notebook-cell:/d%3A/repositorio/github/gmail_sender_list/prototype.ipynb#W6sZmlsZQ%3D%3D?line=9'>10</a>\u001b[0m \u001b[39mfor\u001b[39;00m msg \u001b[39min\u001b[39;00m ids[:\u001b[39m100\u001b[39m]:\n\u001b[1;32m---> <a href='vscode-notebook-cell:/d%3A/repositorio/github/gmail_sender_list/prototype.ipynb#W6sZmlsZQ%3D%3D?line=10'>11</a>\u001b[0m     header \u001b[39m=\u001b[39m \u001b[39mawait\u001b[39;00m get_headers(service, msg\u001b[39m.\u001b[39mget(\u001b[39m'\u001b[39m\u001b[39mid\u001b[39m\u001b[39m'\u001b[39m))\n\u001b[0;32m     <a href='vscode-notebook-cell:/d%3A/repositorio/github/gmail_sender_list/prototype.ipynb#W6sZmlsZQ%3D%3D?line=11'>12</a>\u001b[0m     headers\u001b[39m.\u001b[39mappend(header)\n\u001b[0;32m     <a href='vscode-notebook-cell:/d%3A/repositorio/github/gmail_sender_list/prototype.ipynb#W6sZmlsZQ%3D%3D?line=13'>14</a>\u001b[0m \u001b[39mwith\u001b[39;00m \u001b[39mopen\u001b[39m(\u001b[39m'\u001b[39m\u001b[39mresult_headers\u001b[39m\u001b[39m'\u001b[39m, \u001b[39m'\u001b[39m\u001b[39mw\u001b[39m\u001b[39m'\u001b[39m) \u001b[39mas\u001b[39;00m fopen:\n",
      "\u001b[1;32md:\\repositorio\\github\\gmail_sender_list\\prototype.ipynb Célula: 2\u001b[0m in \u001b[0;36mget_headers\u001b[1;34m(service, msgId)\u001b[0m\n\u001b[0;32m     <a href='vscode-notebook-cell:/d%3A/repositorio/github/gmail_sender_list/prototype.ipynb#W6sZmlsZQ%3D%3D?line=70'>71</a>\u001b[0m \u001b[39masync\u001b[39;00m \u001b[39mdef\u001b[39;00m \u001b[39mget_headers\u001b[39m(service, msgId):\n\u001b[1;32m---> <a href='vscode-notebook-cell:/d%3A/repositorio/github/gmail_sender_list/prototype.ipynb#W6sZmlsZQ%3D%3D?line=71'>72</a>\u001b[0m     message \u001b[39m=\u001b[39m \u001b[39mawait\u001b[39;00m get_message_content(service, msgId)\n\u001b[0;32m     <a href='vscode-notebook-cell:/d%3A/repositorio/github/gmail_sender_list/prototype.ipynb#W6sZmlsZQ%3D%3D?line=72'>73</a>\u001b[0m     \u001b[39mtry\u001b[39;00m:\n\u001b[0;32m     <a href='vscode-notebook-cell:/d%3A/repositorio/github/gmail_sender_list/prototype.ipynb#W6sZmlsZQ%3D%3D?line=73'>74</a>\u001b[0m         \u001b[39mreturn\u001b[39;00m \u001b[39mawait\u001b[39;00m header_as_json(message[\u001b[39m'\u001b[39m\u001b[39mpayload\u001b[39m\u001b[39m'\u001b[39m][\u001b[39m'\u001b[39m\u001b[39mheaders\u001b[39m\u001b[39m'\u001b[39m])\n",
      "\u001b[1;32md:\\repositorio\\github\\gmail_sender_list\\prototype.ipynb Célula: 2\u001b[0m in \u001b[0;36mget_message_content\u001b[1;34m(service, msgId)\u001b[0m\n\u001b[0;32m     <a href='vscode-notebook-cell:/d%3A/repositorio/github/gmail_sender_list/prototype.ipynb#W6sZmlsZQ%3D%3D?line=56'>57</a>\u001b[0m \u001b[39masync\u001b[39;00m \u001b[39mdef\u001b[39;00m \u001b[39mget_message_content\u001b[39m(service, msgId):\n\u001b[1;32m---> <a href='vscode-notebook-cell:/d%3A/repositorio/github/gmail_sender_list/prototype.ipynb#W6sZmlsZQ%3D%3D?line=57'>58</a>\u001b[0m     \u001b[39mreturn\u001b[39;00m \u001b[39mawait\u001b[39;00m service\u001b[39m.\u001b[39musers()\u001b[39m.\u001b[39mmessages()\u001b[39m.\u001b[39mget(userId\u001b[39m=\u001b[39m\u001b[39m'\u001b[39m\u001b[39mme\u001b[39m\u001b[39m'\u001b[39m,\u001b[39mid\u001b[39m\u001b[39m=\u001b[39mmsgId,\u001b[39mformat\u001b[39m\u001b[39m=\u001b[39m\u001b[39m'\u001b[39m\u001b[39mmetadata\u001b[39m\u001b[39m'\u001b[39m)\u001b[39m.\u001b[39mexecute()\n",
      "\u001b[1;31mTypeError\u001b[0m: object dict can't be used in 'await' expression"
     ]
    }
   ],
   "source": [
    "#service = get_service(credential_json='credentials.json')\n",
    "#all_messages = get_all_messages(service)\n",
    "#total_messages = count_messages(all_messages)\n",
    "\n",
    "#ids = list()\n",
    "#for messages in all_messages:\n",
    "#    ids = ids + messages.get('messages')\n",
    "\n",
    "headers = list()\n",
    "for msg in ids[:100]:\n",
    "    header = await get_headers(service, msg.get('id'))\n",
    "    headers.append(header)\n",
    "\n",
    "with open('result_headers', 'w') as fopen:\n",
    "    for header in headers:\n",
    "        fopen.write(json.dumps(header) + '\\n')"
   ]
  }
 ],
 "metadata": {
  "kernelspec": {
   "display_name": "Python 3.8.13 (conda)",
   "language": "python",
   "name": "python3"
  },
  "language_info": {
   "codemirror_mode": {
    "name": "ipython",
    "version": 3
   },
   "file_extension": ".py",
   "mimetype": "text/x-python",
   "name": "python",
   "nbconvert_exporter": "python",
   "pygments_lexer": "ipython3",
   "version": "3.8.13"
  },
  "orig_nbformat": 4,
  "vscode": {
   "interpreter": {
    "hash": "12d0f74c5d432517ff84e2b80ed41a1c4c8bc02cf2ee354adf1f89c34dd41974"
   }
  }
 },
 "nbformat": 4,
 "nbformat_minor": 2
}
